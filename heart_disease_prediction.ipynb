{
 "cells": [
  {
   "cell_type": "code",
   "execution_count": 1,
   "id": "sufficient-synthetic",
   "metadata": {},
   "outputs": [],
   "source": [
    "import numpy as np\n",
    "import pandas as pd\n",
    "import matplotlib.pyplot as plt\n",
    "from sklearn.model_selection import train_test_split\n",
    "from pgmpy.models import BayesianModel\n",
    "from pgmpy.estimators import MaximumLikelihoodEstimator\n",
    "import seaborn as sns"
   ]
  },
  {
   "cell_type": "code",
   "execution_count": 2,
   "id": "bound-insight",
   "metadata": {},
   "outputs": [
    {
     "data": {
      "text/html": [
       "<div>\n",
       "<style scoped>\n",
       "    .dataframe tbody tr th:only-of-type {\n",
       "        vertical-align: middle;\n",
       "    }\n",
       "\n",
       "    .dataframe tbody tr th {\n",
       "        vertical-align: top;\n",
       "    }\n",
       "\n",
       "    .dataframe thead th {\n",
       "        text-align: right;\n",
       "    }\n",
       "</style>\n",
       "<table border=\"1\" class=\"dataframe\">\n",
       "  <thead>\n",
       "    <tr style=\"text-align: right;\">\n",
       "      <th></th>\n",
       "      <th>age</th>\n",
       "      <th>sex</th>\n",
       "      <th>cp</th>\n",
       "      <th>trestbps</th>\n",
       "      <th>chol</th>\n",
       "      <th>fbs</th>\n",
       "      <th>restecg</th>\n",
       "      <th>thalach</th>\n",
       "      <th>exang</th>\n",
       "      <th>oldpeak</th>\n",
       "      <th>slope</th>\n",
       "      <th>ca</th>\n",
       "      <th>thal</th>\n",
       "      <th>condition</th>\n",
       "    </tr>\n",
       "  </thead>\n",
       "  <tbody>\n",
       "    <tr>\n",
       "      <th>292</th>\n",
       "      <td>40</td>\n",
       "      <td>1</td>\n",
       "      <td>3</td>\n",
       "      <td>152</td>\n",
       "      <td>223</td>\n",
       "      <td>0</td>\n",
       "      <td>0</td>\n",
       "      <td>181</td>\n",
       "      <td>0</td>\n",
       "      <td>0.0</td>\n",
       "      <td>0</td>\n",
       "      <td>0</td>\n",
       "      <td>2</td>\n",
       "      <td>1</td>\n",
       "    </tr>\n",
       "    <tr>\n",
       "      <th>293</th>\n",
       "      <td>39</td>\n",
       "      <td>1</td>\n",
       "      <td>3</td>\n",
       "      <td>118</td>\n",
       "      <td>219</td>\n",
       "      <td>0</td>\n",
       "      <td>0</td>\n",
       "      <td>140</td>\n",
       "      <td>0</td>\n",
       "      <td>1.2</td>\n",
       "      <td>1</td>\n",
       "      <td>0</td>\n",
       "      <td>2</td>\n",
       "      <td>1</td>\n",
       "    </tr>\n",
       "    <tr>\n",
       "      <th>294</th>\n",
       "      <td>35</td>\n",
       "      <td>1</td>\n",
       "      <td>3</td>\n",
       "      <td>120</td>\n",
       "      <td>198</td>\n",
       "      <td>0</td>\n",
       "      <td>0</td>\n",
       "      <td>130</td>\n",
       "      <td>1</td>\n",
       "      <td>1.6</td>\n",
       "      <td>1</td>\n",
       "      <td>0</td>\n",
       "      <td>2</td>\n",
       "      <td>1</td>\n",
       "    </tr>\n",
       "    <tr>\n",
       "      <th>295</th>\n",
       "      <td>35</td>\n",
       "      <td>0</td>\n",
       "      <td>3</td>\n",
       "      <td>138</td>\n",
       "      <td>183</td>\n",
       "      <td>0</td>\n",
       "      <td>0</td>\n",
       "      <td>182</td>\n",
       "      <td>0</td>\n",
       "      <td>1.4</td>\n",
       "      <td>0</td>\n",
       "      <td>0</td>\n",
       "      <td>0</td>\n",
       "      <td>0</td>\n",
       "    </tr>\n",
       "    <tr>\n",
       "      <th>296</th>\n",
       "      <td>35</td>\n",
       "      <td>1</td>\n",
       "      <td>3</td>\n",
       "      <td>126</td>\n",
       "      <td>282</td>\n",
       "      <td>0</td>\n",
       "      <td>2</td>\n",
       "      <td>156</td>\n",
       "      <td>1</td>\n",
       "      <td>0.0</td>\n",
       "      <td>0</td>\n",
       "      <td>0</td>\n",
       "      <td>2</td>\n",
       "      <td>1</td>\n",
       "    </tr>\n",
       "  </tbody>\n",
       "</table>\n",
       "</div>"
      ],
      "text/plain": [
       "     age  sex  cp  trestbps  chol  fbs  restecg  thalach  exang  oldpeak  \\\n",
       "292   40    1   3       152   223    0        0      181      0      0.0   \n",
       "293   39    1   3       118   219    0        0      140      0      1.2   \n",
       "294   35    1   3       120   198    0        0      130      1      1.6   \n",
       "295   35    0   3       138   183    0        0      182      0      1.4   \n",
       "296   35    1   3       126   282    0        2      156      1      0.0   \n",
       "\n",
       "     slope  ca  thal  condition  \n",
       "292      0   0     2          1  \n",
       "293      1   0     2          1  \n",
       "294      1   0     2          1  \n",
       "295      0   0     0          0  \n",
       "296      0   0     2          1  "
      ]
     },
     "execution_count": 2,
     "metadata": {},
     "output_type": "execute_result"
    }
   ],
   "source": [
    "df=pd.read_csv('heart.csv')\n",
    "df.tail()"
   ]
  },
  {
   "cell_type": "code",
   "execution_count": 3,
   "id": "finished-pontiac",
   "metadata": {},
   "outputs": [],
   "source": [
    "bins=[28, 45, 64, 79]\n",
    "names=[0, 1, 2]\n",
    "df['ageC']=pd.cut(df['age'], bins, labels=names)"
   ]
  },
  {
   "cell_type": "code",
   "execution_count": 4,
   "id": "smaller-stable",
   "metadata": {},
   "outputs": [
    {
     "data": {
      "text/plain": [
       "0      69\n",
       "1      69\n",
       "2      66\n",
       "3      65\n",
       "4      64\n",
       "       ..\n",
       "292    40\n",
       "293    39\n",
       "294    35\n",
       "295    35\n",
       "296    35\n",
       "Name: age, Length: 297, dtype: int64"
      ]
     },
     "execution_count": 4,
     "metadata": {},
     "output_type": "execute_result"
    }
   ],
   "source": [
    "df.age"
   ]
  },
  {
   "cell_type": "code",
   "execution_count": 5,
   "id": "incident-detection",
   "metadata": {},
   "outputs": [
    {
     "data": {
      "text/html": [
       "<div>\n",
       "<style scoped>\n",
       "    .dataframe tbody tr th:only-of-type {\n",
       "        vertical-align: middle;\n",
       "    }\n",
       "\n",
       "    .dataframe tbody tr th {\n",
       "        vertical-align: top;\n",
       "    }\n",
       "\n",
       "    .dataframe thead th {\n",
       "        text-align: right;\n",
       "    }\n",
       "</style>\n",
       "<table border=\"1\" class=\"dataframe\">\n",
       "  <thead>\n",
       "    <tr style=\"text-align: right;\">\n",
       "      <th></th>\n",
       "      <th>age</th>\n",
       "      <th>sex</th>\n",
       "      <th>cp</th>\n",
       "      <th>chol</th>\n",
       "      <th>fbs</th>\n",
       "      <th>restecg</th>\n",
       "      <th>thalach</th>\n",
       "      <th>exang</th>\n",
       "      <th>oldpeak</th>\n",
       "      <th>slope</th>\n",
       "      <th>ca</th>\n",
       "      <th>thal</th>\n",
       "      <th>condition</th>\n",
       "      <th>ageC</th>\n",
       "      <th>trestbpsC</th>\n",
       "    </tr>\n",
       "  </thead>\n",
       "  <tbody>\n",
       "    <tr>\n",
       "      <th>0</th>\n",
       "      <td>69</td>\n",
       "      <td>1</td>\n",
       "      <td>0</td>\n",
       "      <td>234</td>\n",
       "      <td>1</td>\n",
       "      <td>2</td>\n",
       "      <td>131</td>\n",
       "      <td>0</td>\n",
       "      <td>0.1</td>\n",
       "      <td>1</td>\n",
       "      <td>1</td>\n",
       "      <td>0</td>\n",
       "      <td>0</td>\n",
       "      <td>2</td>\n",
       "      <td>2</td>\n",
       "    </tr>\n",
       "    <tr>\n",
       "      <th>1</th>\n",
       "      <td>69</td>\n",
       "      <td>0</td>\n",
       "      <td>0</td>\n",
       "      <td>239</td>\n",
       "      <td>0</td>\n",
       "      <td>0</td>\n",
       "      <td>151</td>\n",
       "      <td>0</td>\n",
       "      <td>1.8</td>\n",
       "      <td>0</td>\n",
       "      <td>2</td>\n",
       "      <td>0</td>\n",
       "      <td>0</td>\n",
       "      <td>2</td>\n",
       "      <td>1</td>\n",
       "    </tr>\n",
       "    <tr>\n",
       "      <th>2</th>\n",
       "      <td>66</td>\n",
       "      <td>0</td>\n",
       "      <td>0</td>\n",
       "      <td>226</td>\n",
       "      <td>0</td>\n",
       "      <td>0</td>\n",
       "      <td>114</td>\n",
       "      <td>0</td>\n",
       "      <td>2.6</td>\n",
       "      <td>2</td>\n",
       "      <td>0</td>\n",
       "      <td>0</td>\n",
       "      <td>0</td>\n",
       "      <td>2</td>\n",
       "      <td>2</td>\n",
       "    </tr>\n",
       "    <tr>\n",
       "      <th>3</th>\n",
       "      <td>65</td>\n",
       "      <td>1</td>\n",
       "      <td>0</td>\n",
       "      <td>282</td>\n",
       "      <td>1</td>\n",
       "      <td>2</td>\n",
       "      <td>174</td>\n",
       "      <td>0</td>\n",
       "      <td>1.4</td>\n",
       "      <td>1</td>\n",
       "      <td>1</td>\n",
       "      <td>0</td>\n",
       "      <td>1</td>\n",
       "      <td>2</td>\n",
       "      <td>1</td>\n",
       "    </tr>\n",
       "    <tr>\n",
       "      <th>4</th>\n",
       "      <td>64</td>\n",
       "      <td>1</td>\n",
       "      <td>0</td>\n",
       "      <td>211</td>\n",
       "      <td>0</td>\n",
       "      <td>2</td>\n",
       "      <td>144</td>\n",
       "      <td>1</td>\n",
       "      <td>1.8</td>\n",
       "      <td>1</td>\n",
       "      <td>0</td>\n",
       "      <td>0</td>\n",
       "      <td>0</td>\n",
       "      <td>1</td>\n",
       "      <td>0</td>\n",
       "    </tr>\n",
       "  </tbody>\n",
       "</table>\n",
       "</div>"
      ],
      "text/plain": [
       "   age  sex  cp  chol  fbs  restecg  thalach  exang  oldpeak  slope  ca  thal  \\\n",
       "0   69    1   0   234    1        2      131      0      0.1      1   1     0   \n",
       "1   69    0   0   239    0        0      151      0      1.8      0   2     0   \n",
       "2   66    0   0   226    0        0      114      0      2.6      2   0     0   \n",
       "3   65    1   0   282    1        2      174      0      1.4      1   1     0   \n",
       "4   64    1   0   211    0        2      144      1      1.8      1   0     0   \n",
       "\n",
       "   condition ageC trestbpsC  \n",
       "0          0    2         2  \n",
       "1          0    2         1  \n",
       "2          0    2         2  \n",
       "3          1    2         1  \n",
       "4          0    1         0  "
      ]
     },
     "execution_count": 5,
     "metadata": {},
     "output_type": "execute_result"
    }
   ],
   "source": [
    "bins=[90, 120, 140, 201]\n",
    "names=[0, 1, 2]\n",
    "df['trestbpsC']=pd.cut(df['trestbps'], bins, labels=names)\n",
    "df=df.drop(['trestbps'], axis=1)\n",
    "df.head()"
   ]
  },
  {
   "cell_type": "code",
   "execution_count": 6,
   "id": "stunning-heaven",
   "metadata": {},
   "outputs": [
    {
     "data": {
      "text/html": [
       "<div>\n",
       "<style scoped>\n",
       "    .dataframe tbody tr th:only-of-type {\n",
       "        vertical-align: middle;\n",
       "    }\n",
       "\n",
       "    .dataframe tbody tr th {\n",
       "        vertical-align: top;\n",
       "    }\n",
       "\n",
       "    .dataframe thead th {\n",
       "        text-align: right;\n",
       "    }\n",
       "</style>\n",
       "<table border=\"1\" class=\"dataframe\">\n",
       "  <thead>\n",
       "    <tr style=\"text-align: right;\">\n",
       "      <th></th>\n",
       "      <th>age</th>\n",
       "      <th>sex</th>\n",
       "      <th>cp</th>\n",
       "      <th>fbs</th>\n",
       "      <th>restecg</th>\n",
       "      <th>thalach</th>\n",
       "      <th>exang</th>\n",
       "      <th>oldpeak</th>\n",
       "      <th>slope</th>\n",
       "      <th>ca</th>\n",
       "      <th>thal</th>\n",
       "      <th>condition</th>\n",
       "      <th>ageC</th>\n",
       "      <th>trestbpsC</th>\n",
       "      <th>cholC</th>\n",
       "    </tr>\n",
       "  </thead>\n",
       "  <tbody>\n",
       "    <tr>\n",
       "      <th>0</th>\n",
       "      <td>69</td>\n",
       "      <td>1</td>\n",
       "      <td>0</td>\n",
       "      <td>1</td>\n",
       "      <td>2</td>\n",
       "      <td>131</td>\n",
       "      <td>0</td>\n",
       "      <td>0.1</td>\n",
       "      <td>1</td>\n",
       "      <td>1</td>\n",
       "      <td>0</td>\n",
       "      <td>0</td>\n",
       "      <td>2</td>\n",
       "      <td>2</td>\n",
       "      <td>1</td>\n",
       "    </tr>\n",
       "    <tr>\n",
       "      <th>1</th>\n",
       "      <td>69</td>\n",
       "      <td>0</td>\n",
       "      <td>0</td>\n",
       "      <td>0</td>\n",
       "      <td>0</td>\n",
       "      <td>151</td>\n",
       "      <td>0</td>\n",
       "      <td>1.8</td>\n",
       "      <td>0</td>\n",
       "      <td>2</td>\n",
       "      <td>0</td>\n",
       "      <td>0</td>\n",
       "      <td>2</td>\n",
       "      <td>1</td>\n",
       "      <td>1</td>\n",
       "    </tr>\n",
       "    <tr>\n",
       "      <th>2</th>\n",
       "      <td>66</td>\n",
       "      <td>0</td>\n",
       "      <td>0</td>\n",
       "      <td>0</td>\n",
       "      <td>0</td>\n",
       "      <td>114</td>\n",
       "      <td>0</td>\n",
       "      <td>2.6</td>\n",
       "      <td>2</td>\n",
       "      <td>0</td>\n",
       "      <td>0</td>\n",
       "      <td>0</td>\n",
       "      <td>2</td>\n",
       "      <td>2</td>\n",
       "      <td>1</td>\n",
       "    </tr>\n",
       "    <tr>\n",
       "      <th>3</th>\n",
       "      <td>65</td>\n",
       "      <td>1</td>\n",
       "      <td>0</td>\n",
       "      <td>1</td>\n",
       "      <td>2</td>\n",
       "      <td>174</td>\n",
       "      <td>0</td>\n",
       "      <td>1.4</td>\n",
       "      <td>1</td>\n",
       "      <td>1</td>\n",
       "      <td>0</td>\n",
       "      <td>1</td>\n",
       "      <td>2</td>\n",
       "      <td>1</td>\n",
       "      <td>2</td>\n",
       "    </tr>\n",
       "    <tr>\n",
       "      <th>4</th>\n",
       "      <td>64</td>\n",
       "      <td>1</td>\n",
       "      <td>0</td>\n",
       "      <td>0</td>\n",
       "      <td>2</td>\n",
       "      <td>144</td>\n",
       "      <td>1</td>\n",
       "      <td>1.8</td>\n",
       "      <td>1</td>\n",
       "      <td>0</td>\n",
       "      <td>0</td>\n",
       "      <td>0</td>\n",
       "      <td>1</td>\n",
       "      <td>0</td>\n",
       "      <td>1</td>\n",
       "    </tr>\n",
       "  </tbody>\n",
       "</table>\n",
       "</div>"
      ],
      "text/plain": [
       "   age  sex  cp  fbs  restecg  thalach  exang  oldpeak  slope  ca  thal  \\\n",
       "0   69    1   0    1        2      131      0      0.1      1   1     0   \n",
       "1   69    0   0    0        0      151      0      1.8      0   2     0   \n",
       "2   66    0   0    0        0      114      0      2.6      2   0     0   \n",
       "3   65    1   0    1        2      174      0      1.4      1   1     0   \n",
       "4   64    1   0    0        2      144      1      1.8      1   0     0   \n",
       "\n",
       "   condition ageC trestbpsC cholC  \n",
       "0          0    2         2     1  \n",
       "1          0    2         1     1  \n",
       "2          0    2         2     1  \n",
       "3          1    2         1     2  \n",
       "4          0    1         0     1  "
      ]
     },
     "execution_count": 6,
     "metadata": {},
     "output_type": "execute_result"
    }
   ],
   "source": [
    "bins=[125, 200, 240, 565]\n",
    "names=[0, 1, 2]\n",
    "df['cholC']=pd.cut(df['chol'], bins, labels=names)\n",
    "df=df.drop(['chol'], axis=1)\n",
    "df.head()"
   ]
  },
  {
   "cell_type": "code",
   "execution_count": 7,
   "id": "executive-wildlife",
   "metadata": {},
   "outputs": [],
   "source": [
    "df['age220'] = 220 - df['age']"
   ]
  },
  {
   "cell_type": "code",
   "execution_count": 8,
   "id": "alert-amsterdam",
   "metadata": {},
   "outputs": [],
   "source": [
    "df['thalachC'] = df['age220'] < df['thalach']"
   ]
  },
  {
   "cell_type": "code",
   "execution_count": 9,
   "id": "comparative-circumstances",
   "metadata": {},
   "outputs": [],
   "source": [
    "df['thalach'].replace([True, False], [1, 0], inplace=True)"
   ]
  },
  {
   "cell_type": "code",
   "execution_count": 10,
   "id": "verified-japan",
   "metadata": {},
   "outputs": [
    {
     "data": {
      "text/html": [
       "<div>\n",
       "<style scoped>\n",
       "    .dataframe tbody tr th:only-of-type {\n",
       "        vertical-align: middle;\n",
       "    }\n",
       "\n",
       "    .dataframe tbody tr th {\n",
       "        vertical-align: top;\n",
       "    }\n",
       "\n",
       "    .dataframe thead th {\n",
       "        text-align: right;\n",
       "    }\n",
       "</style>\n",
       "<table border=\"1\" class=\"dataframe\">\n",
       "  <thead>\n",
       "    <tr style=\"text-align: right;\">\n",
       "      <th></th>\n",
       "      <th>sex</th>\n",
       "      <th>cp</th>\n",
       "      <th>fbs</th>\n",
       "      <th>restecg</th>\n",
       "      <th>exang</th>\n",
       "      <th>oldpeak</th>\n",
       "      <th>slope</th>\n",
       "      <th>ca</th>\n",
       "      <th>thal</th>\n",
       "      <th>condition</th>\n",
       "      <th>ageC</th>\n",
       "      <th>trestbpsC</th>\n",
       "      <th>cholC</th>\n",
       "      <th>age220</th>\n",
       "      <th>thalachC</th>\n",
       "    </tr>\n",
       "  </thead>\n",
       "  <tbody>\n",
       "    <tr>\n",
       "      <th>0</th>\n",
       "      <td>1</td>\n",
       "      <td>0</td>\n",
       "      <td>1</td>\n",
       "      <td>2</td>\n",
       "      <td>0</td>\n",
       "      <td>0.1</td>\n",
       "      <td>1</td>\n",
       "      <td>1</td>\n",
       "      <td>0</td>\n",
       "      <td>0</td>\n",
       "      <td>2</td>\n",
       "      <td>2</td>\n",
       "      <td>1</td>\n",
       "      <td>151</td>\n",
       "      <td>False</td>\n",
       "    </tr>\n",
       "    <tr>\n",
       "      <th>1</th>\n",
       "      <td>0</td>\n",
       "      <td>0</td>\n",
       "      <td>0</td>\n",
       "      <td>0</td>\n",
       "      <td>0</td>\n",
       "      <td>1.8</td>\n",
       "      <td>0</td>\n",
       "      <td>2</td>\n",
       "      <td>0</td>\n",
       "      <td>0</td>\n",
       "      <td>2</td>\n",
       "      <td>1</td>\n",
       "      <td>1</td>\n",
       "      <td>151</td>\n",
       "      <td>False</td>\n",
       "    </tr>\n",
       "    <tr>\n",
       "      <th>2</th>\n",
       "      <td>0</td>\n",
       "      <td>0</td>\n",
       "      <td>0</td>\n",
       "      <td>0</td>\n",
       "      <td>0</td>\n",
       "      <td>2.6</td>\n",
       "      <td>2</td>\n",
       "      <td>0</td>\n",
       "      <td>0</td>\n",
       "      <td>0</td>\n",
       "      <td>2</td>\n",
       "      <td>2</td>\n",
       "      <td>1</td>\n",
       "      <td>154</td>\n",
       "      <td>False</td>\n",
       "    </tr>\n",
       "    <tr>\n",
       "      <th>3</th>\n",
       "      <td>1</td>\n",
       "      <td>0</td>\n",
       "      <td>1</td>\n",
       "      <td>2</td>\n",
       "      <td>0</td>\n",
       "      <td>1.4</td>\n",
       "      <td>1</td>\n",
       "      <td>1</td>\n",
       "      <td>0</td>\n",
       "      <td>1</td>\n",
       "      <td>2</td>\n",
       "      <td>1</td>\n",
       "      <td>2</td>\n",
       "      <td>155</td>\n",
       "      <td>True</td>\n",
       "    </tr>\n",
       "    <tr>\n",
       "      <th>4</th>\n",
       "      <td>1</td>\n",
       "      <td>0</td>\n",
       "      <td>0</td>\n",
       "      <td>2</td>\n",
       "      <td>1</td>\n",
       "      <td>1.8</td>\n",
       "      <td>1</td>\n",
       "      <td>0</td>\n",
       "      <td>0</td>\n",
       "      <td>0</td>\n",
       "      <td>1</td>\n",
       "      <td>0</td>\n",
       "      <td>1</td>\n",
       "      <td>156</td>\n",
       "      <td>False</td>\n",
       "    </tr>\n",
       "  </tbody>\n",
       "</table>\n",
       "</div>"
      ],
      "text/plain": [
       "   sex  cp  fbs  restecg  exang  oldpeak  slope  ca  thal  condition ageC  \\\n",
       "0    1   0    1        2      0      0.1      1   1     0          0    2   \n",
       "1    0   0    0        0      0      1.8      0   2     0          0    2   \n",
       "2    0   0    0        0      0      2.6      2   0     0          0    2   \n",
       "3    1   0    1        2      0      1.4      1   1     0          1    2   \n",
       "4    1   0    0        2      1      1.8      1   0     0          0    1   \n",
       "\n",
       "  trestbpsC cholC  age220  thalachC  \n",
       "0         2     1     151     False  \n",
       "1         1     1     151     False  \n",
       "2         2     1     154     False  \n",
       "3         1     2     155      True  \n",
       "4         0     1     156     False  "
      ]
     },
     "execution_count": 10,
     "metadata": {},
     "output_type": "execute_result"
    }
   ],
   "source": [
    "df=df.drop(['thalach'], axis=1)\n",
    "df=df.drop(['age'], axis=1)\n",
    "df.head()"
   ]
  },
  {
   "cell_type": "code",
   "execution_count": 11,
   "id": "relative-washington",
   "metadata": {},
   "outputs": [
    {
     "data": {
      "text/html": [
       "<div>\n",
       "<style scoped>\n",
       "    .dataframe tbody tr th:only-of-type {\n",
       "        vertical-align: middle;\n",
       "    }\n",
       "\n",
       "    .dataframe tbody tr th {\n",
       "        vertical-align: top;\n",
       "    }\n",
       "\n",
       "    .dataframe thead th {\n",
       "        text-align: right;\n",
       "    }\n",
       "</style>\n",
       "<table border=\"1\" class=\"dataframe\">\n",
       "  <thead>\n",
       "    <tr style=\"text-align: right;\">\n",
       "      <th></th>\n",
       "      <th>sex</th>\n",
       "      <th>cp</th>\n",
       "      <th>fbs</th>\n",
       "      <th>restecg</th>\n",
       "      <th>exang</th>\n",
       "      <th>slope</th>\n",
       "      <th>ca</th>\n",
       "      <th>thal</th>\n",
       "      <th>condition</th>\n",
       "      <th>ageC</th>\n",
       "      <th>trestbpsC</th>\n",
       "      <th>cholC</th>\n",
       "      <th>age220</th>\n",
       "      <th>thalachC</th>\n",
       "      <th>oldpeakC</th>\n",
       "    </tr>\n",
       "  </thead>\n",
       "  <tbody>\n",
       "    <tr>\n",
       "      <th>0</th>\n",
       "      <td>1</td>\n",
       "      <td>0</td>\n",
       "      <td>1</td>\n",
       "      <td>2</td>\n",
       "      <td>0</td>\n",
       "      <td>1</td>\n",
       "      <td>1</td>\n",
       "      <td>0</td>\n",
       "      <td>0</td>\n",
       "      <td>2</td>\n",
       "      <td>2</td>\n",
       "      <td>1</td>\n",
       "      <td>151</td>\n",
       "      <td>False</td>\n",
       "      <td>0</td>\n",
       "    </tr>\n",
       "    <tr>\n",
       "      <th>1</th>\n",
       "      <td>0</td>\n",
       "      <td>0</td>\n",
       "      <td>0</td>\n",
       "      <td>0</td>\n",
       "      <td>0</td>\n",
       "      <td>0</td>\n",
       "      <td>2</td>\n",
       "      <td>0</td>\n",
       "      <td>0</td>\n",
       "      <td>2</td>\n",
       "      <td>1</td>\n",
       "      <td>1</td>\n",
       "      <td>151</td>\n",
       "      <td>False</td>\n",
       "      <td>0</td>\n",
       "    </tr>\n",
       "    <tr>\n",
       "      <th>2</th>\n",
       "      <td>0</td>\n",
       "      <td>0</td>\n",
       "      <td>0</td>\n",
       "      <td>0</td>\n",
       "      <td>0</td>\n",
       "      <td>2</td>\n",
       "      <td>0</td>\n",
       "      <td>0</td>\n",
       "      <td>0</td>\n",
       "      <td>2</td>\n",
       "      <td>2</td>\n",
       "      <td>1</td>\n",
       "      <td>154</td>\n",
       "      <td>False</td>\n",
       "      <td>1</td>\n",
       "    </tr>\n",
       "    <tr>\n",
       "      <th>3</th>\n",
       "      <td>1</td>\n",
       "      <td>0</td>\n",
       "      <td>1</td>\n",
       "      <td>2</td>\n",
       "      <td>0</td>\n",
       "      <td>1</td>\n",
       "      <td>1</td>\n",
       "      <td>0</td>\n",
       "      <td>1</td>\n",
       "      <td>2</td>\n",
       "      <td>1</td>\n",
       "      <td>2</td>\n",
       "      <td>155</td>\n",
       "      <td>True</td>\n",
       "      <td>0</td>\n",
       "    </tr>\n",
       "    <tr>\n",
       "      <th>4</th>\n",
       "      <td>1</td>\n",
       "      <td>0</td>\n",
       "      <td>0</td>\n",
       "      <td>2</td>\n",
       "      <td>1</td>\n",
       "      <td>1</td>\n",
       "      <td>0</td>\n",
       "      <td>0</td>\n",
       "      <td>0</td>\n",
       "      <td>1</td>\n",
       "      <td>0</td>\n",
       "      <td>1</td>\n",
       "      <td>156</td>\n",
       "      <td>False</td>\n",
       "      <td>0</td>\n",
       "    </tr>\n",
       "  </tbody>\n",
       "</table>\n",
       "</div>"
      ],
      "text/plain": [
       "   sex  cp  fbs  restecg  exang  slope  ca  thal  condition ageC trestbpsC  \\\n",
       "0    1   0    1        2      0      1   1     0          0    2         2   \n",
       "1    0   0    0        0      0      0   2     0          0    2         1   \n",
       "2    0   0    0        0      0      2   0     0          0    2         2   \n",
       "3    1   0    1        2      0      1   1     0          1    2         1   \n",
       "4    1   0    0        2      1      1   0     0          0    1         0   \n",
       "\n",
       "  cholC  age220  thalachC oldpeakC  \n",
       "0     1     151     False        0  \n",
       "1     1     151     False        0  \n",
       "2     1     154     False        1  \n",
       "3     2     155      True        0  \n",
       "4     1     156     False        0  "
      ]
     },
     "execution_count": 11,
     "metadata": {},
     "output_type": "execute_result"
    }
   ],
   "source": [
    "bins=[-1, 2, 6.3]\n",
    "names=[0, 1]\n",
    "df['oldpeakC']=pd.cut(df['oldpeak'], bins, labels=names)\n",
    "df=df.drop(['oldpeak'], axis=1)\n",
    "df.head()"
   ]
  },
  {
   "cell_type": "code",
   "execution_count": 12,
   "id": "cardiovascular-click",
   "metadata": {},
   "outputs": [
    {
     "data": {
      "text/plain": [
       "0      0\n",
       "1      0\n",
       "2      1\n",
       "3      0\n",
       "4      0\n",
       "      ..\n",
       "292    0\n",
       "293    0\n",
       "294    0\n",
       "295    0\n",
       "296    0\n",
       "Name: oldpeakC, Length: 297, dtype: category\n",
       "Categories (2, int64): [0 < 1]"
      ]
     },
     "execution_count": 12,
     "metadata": {},
     "output_type": "execute_result"
    }
   ],
   "source": [
    "df.oldpeakC"
   ]
  },
  {
   "cell_type": "code",
   "execution_count": 42,
   "id": "breeding-cricket",
   "metadata": {},
   "outputs": [],
   "source": [
    "age=df.ageC\n",
    "young=0\n",
    "middle=0\n",
    "adult=0"
   ]
  },
  {
   "cell_type": "code",
   "execution_count": 44,
   "id": "impressed-auction",
   "metadata": {},
   "outputs": [],
   "source": [
    "for i in range(297):\n",
    "    if age[i]==0:\n",
    "        young+=1\n",
    "    if age[i]==1:\n",
    "        middle+=1    \n",
    "    else:\n",
    "        adult+=1"
   ]
  },
  {
   "cell_type": "code",
   "execution_count": 45,
   "id": "experimental-union",
   "metadata": {},
   "outputs": [
    {
     "data": {
      "text/plain": [
       "102"
      ]
     },
     "execution_count": 45,
     "metadata": {},
     "output_type": "execute_result"
    }
   ],
   "source": [
    "adult"
   ]
  },
  {
   "cell_type": "code",
   "execution_count": 46,
   "id": "optional-screening",
   "metadata": {},
   "outputs": [
    {
     "data": {
      "text/plain": [
       "([<matplotlib.patches.Wedge at 0x2a00dd4c0a0>,\n",
       "  <matplotlib.patches.Wedge at 0x2a00dd4cb20>,\n",
       "  <matplotlib.patches.Wedge at 0x2a00dd6e220>],\n",
       " [Text(0.9461275796854134, 0.5611083700664443, '29-45'),\n",
       "  Text(-1.0295673773932654, 0.387286735388076, '46-64'),\n",
       "  Text(0.6879930056833714, -0.8582922719742737, '64-77')],\n",
       " [Text(0.5160695889193163, 0.3060591109453332, '17.0%'),\n",
       "  Text(-0.5615822058508719, 0.2112473102116778, '54.5%'),\n",
       "  Text(0.3752689121909298, -0.4681594210768765, '28.5%')])"
      ]
     },
     "execution_count": 46,
     "metadata": {},
     "output_type": "execute_result"
    },
    {
     "data": {
      "image/png": "[encoded data removed]",
      "text/plain": [
       "<Figure size 432x288 with 1 Axes>"
      ]
     },
     "metadata": {},
     "output_type": "display_data"
    }
   ],
   "source": [
    "fig, ax = plt.subplots()\n",
    "ax.pie([young,middle,adult], labels=['29-45','46-64','64-77'], autopct='%1.1f%%')"
   ]
  },
  {
   "cell_type": "code",
   "execution_count": 93,
   "id": "christian-hollywood",
   "metadata": {},
   "outputs": [],
   "source": [
    "thal=df.thal\n",
    "n0=0\n",
    "n1=0\n",
    "n2=0"
   ]
  },
  {
   "cell_type": "code",
   "execution_count": 94,
   "id": "premier-monkey",
   "metadata": {},
   "outputs": [],
   "source": [
    "for i in range(297):\n",
    "    if thal[i]==0:\n",
    "        n0+=1\n",
    "    if thal[i]==1:\n",
    "        n1+=1    \n",
    "    else:\n",
    "        n2+=1"
   ]
  },
  {
   "cell_type": "code",
   "execution_count": 95,
   "id": "given-ministry",
   "metadata": {},
   "outputs": [
    {
     "data": {
      "text/plain": [
       "18"
      ]
     },
     "execution_count": 95,
     "metadata": {},
     "output_type": "execute_result"
    }
   ],
   "source": [
    "n1"
   ]
  },
  {
   "cell_type": "code",
   "execution_count": 96,
   "id": "sought-graham",
   "metadata": {},
   "outputs": [
    {
     "data": {
      "text/plain": [
       "([<matplotlib.patches.Wedge at 0x2a00f219550>,\n",
       "  <matplotlib.patches.Wedge at 0x2a00f219be0>,\n",
       "  <matplotlib.patches.Wedge at 0x2a00f2272b0>],\n",
       " [Text(0.481609242391929, 0.9889653874846542, '0'),\n",
       "  Text(-0.7791415449536511, 0.7764911158070245, '1'),\n",
       "  Text(-0.3569827525977449, -1.0404630288230994, '2')],\n",
       " [Text(0.26269595039559757, 0.5394356659007205, '35.6%'),\n",
       "  Text(-0.42498629724744597, 0.4235406086220133, '3.9%'),\n",
       "  Text(-0.1947178650533154, -0.5675252884489632, '60.5%')])"
      ]
     },
     "execution_count": 96,
     "metadata": {},
     "output_type": "execute_result"
    },
    {
     "data": {
      "image/png": "[encoded data removed]",
      "text/plain": [
       "<Figure size 432x288 with 1 Axes>"
      ]
     },
     "metadata": {},
     "output_type": "display_data"
    }
   ],
   "source": [
    "fig, ax = plt.subplots()\n",
    "ax.pie([n0,n1,n2], labels=['0','1','2'], autopct='%1.1f%%')"
   ]
  },
  {
   "cell_type": "code",
   "execution_count": null,
   "id": "posted-baghdad",
   "metadata": {},
   "outputs": [],
   "source": []
  },
  {
   "cell_type": "code",
   "execution_count": null,
   "id": "pacific-fossil",
   "metadata": {},
   "outputs": [],
   "source": []
  },
  {
   "cell_type": "code",
   "execution_count": null,
   "id": "rising-islam",
   "metadata": {},
   "outputs": [],
   "source": []
  },
  {
   "cell_type": "code",
   "execution_count": 59,
   "id": "cloudy-hydrogen",
   "metadata": {},
   "outputs": [],
   "source": [
    "gender=df.sex\n",
    "female=0\n",
    "male=0"
   ]
  },
  {
   "cell_type": "code",
   "execution_count": 60,
   "id": "inside-quantum",
   "metadata": {},
   "outputs": [],
   "source": [
    "for i in range(297):\n",
    "    if gender[i]==0:\n",
    "        female+=1\n",
    "    else:\n",
    "        male+=1"
   ]
  },
  {
   "cell_type": "code",
   "execution_count": 61,
   "id": "attempted-edwards",
   "metadata": {},
   "outputs": [
    {
     "data": {
      "text/plain": [
       "96"
      ]
     },
     "execution_count": 61,
     "metadata": {},
     "output_type": "execute_result"
    }
   ],
   "source": [
    "female"
   ]
  },
  {
   "cell_type": "code",
   "execution_count": 62,
   "id": "fitted-lawsuit",
   "metadata": {},
   "outputs": [
    {
     "data": {
      "text/plain": [
       "([<matplotlib.patches.Wedge at 0x29215ff98b0>,\n",
       "  <matplotlib.patches.Wedge at 0x29216024760>],\n",
       " [Text(-0.5799479277427769, 0.9346980266946426, 'male'),\n",
       "  Text(0.5799478402300292, -0.9346980809932823, 'female')],\n",
       " [Text(-0.31633523331424196, 0.5098352872879868, '67.7%'),\n",
       "  Text(0.3163351855800159, -0.5098353169054266, '32.3%')])"
      ]
     },
     "execution_count": 62,
     "metadata": {},
     "output_type": "execute_result"
    },
    {
     "data": {
      "image/png": "[encoded data removed]",
      "text/plain": [
       "<Figure size 432x288 with 1 Axes>"
      ]
     },
     "metadata": {},
     "output_type": "display_data"
    }
   ],
   "source": [
    "fig, ax = plt.subplots()\n",
    "ax.pie([male,female], labels=['male','female'], autopct='%1.1f%%')"
   ]
  },
  {
   "cell_type": "code",
   "execution_count": 63,
   "id": "modular-netscape",
   "metadata": {},
   "outputs": [],
   "source": [
    "fbs=df.fbs\n",
    "true=0\n",
    "false=0"
   ]
  },
  {
   "cell_type": "code",
   "execution_count": 64,
   "id": "demanding-inspector",
   "metadata": {},
   "outputs": [],
   "source": [
    "for i in range(297):\n",
    "    if fbs[i]==0:\n",
    "        false+=1\n",
    "    else:\n",
    "        true+=1"
   ]
  },
  {
   "cell_type": "code",
   "execution_count": 65,
   "id": "steady-algebra",
   "metadata": {},
   "outputs": [
    {
     "data": {
      "image/png": "[encoded data removed]",
      "text/plain": [
       "<Figure size 432x288 with 1 Axes>"
      ]
     },
     "metadata": {},
     "output_type": "display_data"
    }
   ],
   "source": [
    "fig, ax = plt.subplots()\n",
    "ax.pie([true,false], labels=['1','0'], autopct='%1.1f%%',\n",
    "      colors=[ 'linen', 'lavender'])\n",
    "plt.show()"
   ]
  },
  {
   "cell_type": "code",
   "execution_count": 47,
   "id": "filled-hydrogen",
   "metadata": {},
   "outputs": [],
   "source": [
    "count10=0\n",
    "count11=0\n",
    "count12=0\n",
    "count00=0\n",
    "count01=0\n",
    "count02=0\n",
    "prob0=0\n",
    "prob1=0\n",
    "target=df.condition\n",
    "slope=df.slope"
   ]
  },
  {
   "cell_type": "code",
   "execution_count": 108,
   "id": "improving-bikini",
   "metadata": {},
   "outputs": [],
   "source": [
    "for i in range(297):\n",
    "    if target[i]==1 and slope[i]==0:\n",
    "        count10+=1\n",
    "    if target[i]==1 and slope[i]==1:\n",
    "        count11+=1        \n",
    "    if target[i]==1 and slope[i]==2:\n",
    "        count12+=1    \n",
    "    if target[i]==1:\n",
    "        prob0+=1\n"
   ]
  },
  {
   "cell_type": "code",
   "execution_count": 109,
   "id": "bottom-links",
   "metadata": {},
   "outputs": [],
   "source": [
    "for i in range(297):\n",
    "    if target[i]==0 and slope[i]==0:\n",
    "        count00+=1\n",
    "    if target[i]==0 and slope[i]==1:\n",
    "        count01+=1        \n",
    "    if target[i]==0 and slope[i]==2:\n",
    "        count02+=1    \n",
    "    if target[i]==0:\n",
    "        prob1+=1"
   ]
  },
  {
   "cell_type": "code",
   "execution_count": 113,
   "id": "italian-productivity",
   "metadata": {},
   "outputs": [],
   "source": [
    "arr1=[count00/prob1, count01/prob1, count02/prob1]\n",
    "arr2=[count10/prob0, count11/prob0, count12/prob0]"
   ]
  },
  {
   "cell_type": "code",
   "execution_count": 116,
   "id": "stopped-longer",
   "metadata": {},
   "outputs": [
    {
     "data": {
      "image/png": "[encoded data removed]",
      "text/plain": [
       "<Figure size 432x288 with 1 Axes>"
      ]
     },
     "metadata": {},
     "output_type": "display_data"
    }
   ],
   "source": [
    "fig, ax = plt.subplots()\n",
    "ax.pie(arr1, labels=['target=0,slope=0','target=0,slope=1','target=0,slope=2'], autopct='%1.1f%%',\n",
    "      colors=['lavenderblush', 'linen', 'lavender'])\n",
    "plt.show()"
   ]
  },
  {
   "cell_type": "code",
   "execution_count": 117,
   "id": "frank-algorithm",
   "metadata": {},
   "outputs": [
    {
     "name": "stderr",
     "output_type": "stream",
     "text": [
      "<ipython-input-117-e5162282ce3e>:2: MatplotlibDeprecationWarning: normalize=None does not normalize if the sum is less than 1 but this behavior is deprecated since 3.3 until two minor releases later. After the deprecation period the default value will be normalize=True. To prevent normalization pass normalize=False \n",
      "  ax.pie(arr2, labels=['target=1,slope=0','target=1,slope=1','target=1,slope=2'], autopct='%1.1f%%',\n"
     ]
    },
    {
     "data": {
      "image/png": "[encoded data removed]",
      "text/plain": [
       "<Figure size 432x288 with 1 Axes>"
      ]
     },
     "metadata": {},
     "output_type": "display_data"
    }
   ],
   "source": [
    "fig, ax = plt.subplots()\n",
    "ax.pie(arr2, labels=['target=1,slope=0','target=1,slope=1','target=1,slope=2'], autopct='%1.1f%%',\n",
    "      colors=['lavenderblush', 'linen', 'lavender'])\n",
    "plt.show()"
   ]
  },
  {
   "cell_type": "code",
   "execution_count": 54,
   "id": "measured-version",
   "metadata": {},
   "outputs": [],
   "source": [
    "count10=0\n",
    "count11=0\n",
    "count20=0\n",
    "count00=0\n",
    "count01=0\n",
    "count21=0\n",
    "prob0=0\n",
    "prob1=0\n",
    "prob2=0\n",
    "age=df.ageC\n",
    "fbs=df.fbs"
   ]
  },
  {
   "cell_type": "code",
   "execution_count": 55,
   "id": "hundred-party",
   "metadata": {},
   "outputs": [],
   "source": [
    "for i in range(297):\n",
    "    if age[i]==0 and fbs[i]==0:\n",
    "        count00+=1\n",
    "    if age[i]==0 and fbs[i]==1:\n",
    "        count01+=1        \n",
    "    if age[i]==0:\n",
    "        prob0+=1"
   ]
  },
  {
   "cell_type": "code",
   "execution_count": 56,
   "id": "hawaiian-elizabeth",
   "metadata": {},
   "outputs": [],
   "source": [
    "for i in range(297):\n",
    "    if age[i]==1 and fbs[i]==0:\n",
    "        count10+=1\n",
    "    if age[i]==1 and fbs[i]==1:\n",
    "        count11+=1        \n",
    "    if age[i]==1:\n",
    "        prob1+=1"
   ]
  },
  {
   "cell_type": "code",
   "execution_count": 57,
   "id": "opened-argument",
   "metadata": {},
   "outputs": [],
   "source": [
    "for i in range(297):\n",
    "    if age[i]==2 and fbs[i]==0:\n",
    "        count20+=1\n",
    "    if age[i]==2 and fbs[i]==1:\n",
    "        count21+=1        \n",
    "    if age[i]==2:\n",
    "        prob2+=1"
   ]
  },
  {
   "cell_type": "code",
   "execution_count": 58,
   "id": "turned-missile",
   "metadata": {},
   "outputs": [],
   "source": [
    "arr1=[count00/prob0, count01/prob0]\n",
    "arr2=[count10/prob1, count11/prob1]\n",
    "arr3=[count20/prob2, count21/prob2]"
   ]
  },
  {
   "cell_type": "code",
   "execution_count": 59,
   "id": "quality-tyler",
   "metadata": {},
   "outputs": [
    {
     "data": {
      "image/png": "[encoded data removed]",
      "text/plain": [
       "<Figure size 432x288 with 1 Axes>"
      ]
     },
     "metadata": {},
     "output_type": "display_data"
    }
   ],
   "source": [
    "fig, ax = plt.subplots()\n",
    "ax.pie(arr1, labels=['age=0,fbs=0','age=0,fbs=1'], autopct='%1.1f%%',\n",
    "      colors=['lavenderblush', 'lavender'])\n",
    "plt.show()"
   ]
  },
  {
   "cell_type": "code",
   "execution_count": 60,
   "id": "varied-trinity",
   "metadata": {},
   "outputs": [
    {
     "data": {
      "image/png": "[encoded data removed]",
      "text/plain": [
       "<Figure size 432x288 with 1 Axes>"
      ]
     },
     "metadata": {},
     "output_type": "display_data"
    }
   ],
   "source": [
    "fig, ax = plt.subplots()\n",
    "ax.pie(arr2, labels=['age=1,fbs=0','age=1,fbs=1'], autopct='%1.1f%%',\n",
    "      colors=['lavenderblush', 'lavender'])\n",
    "plt.show()"
   ]
  },
  {
   "cell_type": "code",
   "execution_count": 61,
   "id": "several-kidney",
   "metadata": {},
   "outputs": [
    {
     "data": {
      "image/png": "[encoded data removed]",
      "text/plain": [
       "<Figure size 432x288 with 1 Axes>"
      ]
     },
     "metadata": {},
     "output_type": "display_data"
    }
   ],
   "source": [
    "fig, ax = plt.subplots()\n",
    "ax.pie(arr3, labels=['age=2,fbs=0','age=2,fbs=1'], autopct='%1.1f%%',\n",
    "      colors=['lavenderblush', 'lavender'])\n",
    "plt.show()"
   ]
  },
  {
   "cell_type": "code",
   "execution_count": 62,
   "id": "fiscal-survey",
   "metadata": {},
   "outputs": [],
   "source": [
    "count10=0\n",
    "count11=0\n",
    "count00=0\n",
    "count01=0\n",
    "prob0=0\n",
    "prob1=0\n",
    "target=df.condition\n",
    "fbs=df.fbs"
   ]
  },
  {
   "cell_type": "code",
   "execution_count": 63,
   "id": "inappropriate-scene",
   "metadata": {},
   "outputs": [],
   "source": [
    "for i in range(297):\n",
    "    if fbs[i]==0 and target[i]==0:\n",
    "        count00+=1\n",
    "    if fbs[i]==0 and target[i]==1:\n",
    "        count01+=1        \n",
    "    if fbs[i]==0:\n",
    "        prob0+=1"
   ]
  },
  {
   "cell_type": "code",
   "execution_count": 64,
   "id": "concrete-premiere",
   "metadata": {},
   "outputs": [],
   "source": [
    "for i in range(297):\n",
    "    if fbs[i]==1 and target[i]==0:\n",
    "        count10+=1\n",
    "    if fbs[i]==1 and target[i]==1:\n",
    "        count11+=1        \n",
    "    if fbs[i]==1:\n",
    "        prob1+=1"
   ]
  },
  {
   "cell_type": "code",
   "execution_count": 65,
   "id": "contemporary-savage",
   "metadata": {},
   "outputs": [],
   "source": [
    "arr1=[count00/prob0, count01/prob0]\n",
    "arr2=[count10/prob1, count11/prob1]"
   ]
  },
  {
   "cell_type": "code",
   "execution_count": 66,
   "id": "subsequent-teacher",
   "metadata": {},
   "outputs": [
    {
     "data": {
      "image/png": "[encoded data removed]",
      "text/plain": [
       "<Figure size 432x288 with 1 Axes>"
      ]
     },
     "metadata": {},
     "output_type": "display_data"
    }
   ],
   "source": [
    "fig, ax = plt.subplots()\n",
    "ax.pie(arr1, labels=['fbs=0,target=0','fbs=0,target=1'], autopct='%1.1f%%',\n",
    "      colors=['lavenderblush', 'lavender'])\n",
    "plt.show()"
   ]
  },
  {
   "cell_type": "code",
   "execution_count": 67,
   "id": "every-leadership",
   "metadata": {
    "scrolled": true
   },
   "outputs": [
    {
     "data": {
      "image/png": "[encoded data removed]",
      "text/plain": [
       "<Figure size 432x288 with 1 Axes>"
      ]
     },
     "metadata": {},
     "output_type": "display_data"
    }
   ],
   "source": [
    "fig, ax = plt.subplots()\n",
    "ax.pie(arr2, labels=['fbs=1,target=0','fbs=1,target=1'], autopct='%1.1f%%',\n",
    "      colors=['lavenderblush', 'lavender'])\n",
    "plt.show()"
   ]
  },
  {
   "cell_type": "code",
   "execution_count": 70,
   "id": "social-acceptance",
   "metadata": {},
   "outputs": [],
   "source": [
    "count10=0\n",
    "count11=0\n",
    "count00=0\n",
    "count01=0\n",
    "count20=0\n",
    "count21=0\n",
    "prob2=0\n",
    "prob0=0\n",
    "prob1=0\n",
    "target=df.condition\n",
    "trestbps=df.trestbpsC"
   ]
  },
  {
   "cell_type": "code",
   "execution_count": 71,
   "id": "stuck-senator",
   "metadata": {},
   "outputs": [],
   "source": [
    "for i in range(297):\n",
    "    if trestbps[i]==0 and target[i]==0:\n",
    "        count00+=1\n",
    "    if trestbps[i]==0 and target[i]==1:\n",
    "        count01+=1        \n",
    "    if trestbps[i]==0:\n",
    "        prob0+=1"
   ]
  },
  {
   "cell_type": "code",
   "execution_count": 72,
   "id": "arctic-terminal",
   "metadata": {},
   "outputs": [],
   "source": [
    "for i in range(297):\n",
    "    if trestbps[i]==1 and target[i]==0:\n",
    "        count10+=1\n",
    "    if trestbps[i]==1 and target[i]==1:\n",
    "        count11+=1        \n",
    "    if trestbps[i]==1:\n",
    "        prob1+=1"
   ]
  },
  {
   "cell_type": "code",
   "execution_count": 73,
   "id": "waiting-hours",
   "metadata": {},
   "outputs": [],
   "source": [
    "for i in range(297):\n",
    "    if trestbps[i]==2 and target[i]==0:\n",
    "        count20+=1\n",
    "    if trestbps[i]==2 and target[i]==1:\n",
    "        count21+=1        \n",
    "    if trestbps[i]==2:\n",
    "        prob2+=1"
   ]
  },
  {
   "cell_type": "code",
   "execution_count": 74,
   "id": "exposed-dealing",
   "metadata": {},
   "outputs": [],
   "source": [
    "arr1=[count00/prob0, count01/prob0]\n",
    "arr2=[count10/prob1, count11/prob1]\n",
    "arr2=[count20/prob2, count21/prob2]"
   ]
  },
  {
   "cell_type": "code",
   "execution_count": 75,
   "id": "white-assessment",
   "metadata": {},
   "outputs": [
    {
     "data": {
      "image/png": "[encoded data removed]",
      "text/plain": [
       "<Figure size 432x288 with 1 Axes>"
      ]
     },
     "metadata": {},
     "output_type": "display_data"
    }
   ],
   "source": [
    "fig, ax = plt.subplots()\n",
    "ax.pie(arr1, labels=['trestbps=0,target=0','trestbps=0,target=1'], autopct='%1.1f%%',\n",
    "      colors=['lavenderblush', 'lavender'])\n",
    "plt.show()"
   ]
  },
  {
   "cell_type": "code",
   "execution_count": 76,
   "id": "conscious-survival",
   "metadata": {},
   "outputs": [
    {
     "data": {
      "image/png": "[encoded data removed]",
      "text/plain": [
       "<Figure size 432x288 with 1 Axes>"
      ]
     },
     "metadata": {},
     "output_type": "display_data"
    }
   ],
   "source": [
    "fig, ax = plt.subplots()\n",
    "ax.pie(arr2, labels=['trestbps=1,target=0','trestbps=1,target=1'], autopct='%1.1f%%',\n",
    "      colors=['lavenderblush', 'lavender'])\n",
    "plt.show()"
   ]
  },
  {
   "cell_type": "code",
   "execution_count": 77,
   "id": "difficult-mitchell",
   "metadata": {},
   "outputs": [
    {
     "data": {
      "image/png": "[encoded data removed]",
      "text/plain": [
       "<Figure size 432x288 with 1 Axes>"
      ]
     },
     "metadata": {},
     "output_type": "display_data"
    }
   ],
   "source": [
    "fig, ax = plt.subplots()\n",
    "ax.pie(arr3, labels=['trestbps=2,target=0','trestbps=2,target=1'], autopct='%1.1f%%',\n",
    "      colors=['lavenderblush', 'lavender'])\n",
    "plt.show()"
   ]
  },
  {
   "cell_type": "code",
   "execution_count": null,
   "id": "meaning-swift",
   "metadata": {},
   "outputs": [],
   "source": []
  },
  {
   "cell_type": "code",
   "execution_count": 78,
   "id": "exterior-enzyme",
   "metadata": {},
   "outputs": [],
   "source": [
    "count10=0\n",
    "count11=0\n",
    "count00=0\n",
    "count01=0\n",
    "prob0=0\n",
    "prob1=0\n",
    "target=df.condition\n",
    "gender=df.sex"
   ]
  },
  {
   "cell_type": "code",
   "execution_count": 79,
   "id": "connected-messaging",
   "metadata": {},
   "outputs": [],
   "source": [
    "for i in range(297):\n",
    "    if gender[i]==0 and target[i]==0:\n",
    "        count00+=1\n",
    "    if gender[i]==0 and target[i]==1:\n",
    "        count01+=1        \n",
    "    if gender[i]==0:\n",
    "        prob0+=1"
   ]
  },
  {
   "cell_type": "code",
   "execution_count": 80,
   "id": "african-combination",
   "metadata": {},
   "outputs": [],
   "source": [
    "for i in range(297):\n",
    "    if gender[i]==1 and target[i]==0:\n",
    "        count10+=1\n",
    "    if gender[i]==1 and target[i]==1:\n",
    "        count11+=1        \n",
    "    if gender[i]==1:\n",
    "        prob1+=1"
   ]
  },
  {
   "cell_type": "code",
   "execution_count": 81,
   "id": "separated-shaft",
   "metadata": {},
   "outputs": [],
   "source": [
    "arr1=[count00/prob0, count01/prob0]\n",
    "arr2=[count10/prob1, count11/prob1]"
   ]
  },
  {
   "cell_type": "code",
   "execution_count": 82,
   "id": "starting-organization",
   "metadata": {},
   "outputs": [
    {
     "data": {
      "image/png": "[encoded data removed]",
      "text/plain": [
       "<Figure size 432x288 with 1 Axes>"
      ]
     },
     "metadata": {},
     "output_type": "display_data"
    }
   ],
   "source": [
    "fig, ax = plt.subplots()\n",
    "ax.pie(arr1, labels=['gender=0,target=0','gender=0,target=1'], autopct='%1.1f%%',\n",
    "      colors=['lavenderblush', 'lavender'])\n",
    "plt.show()"
   ]
  },
  {
   "cell_type": "code",
   "execution_count": 83,
   "id": "cheap-ballot",
   "metadata": {
    "scrolled": true
   },
   "outputs": [
    {
     "data": {
      "image/png": "[encoded data removed]",
      "text/plain": [
       "<Figure size 432x288 with 1 Axes>"
      ]
     },
     "metadata": {},
     "output_type": "display_data"
    }
   ],
   "source": [
    "fig, ax = plt.subplots()\n",
    "ax.pie(arr2, labels=['gender=1,target=0','gender=1,target=1'], autopct='%1.1f%%',\n",
    "      colors=['lavenderblush', 'lavender'])\n",
    "plt.show()"
   ]
  },
  {
   "cell_type": "code",
   "execution_count": null,
   "id": "curious-conference",
   "metadata": {},
   "outputs": [],
   "source": []
  },
  {
   "cell_type": "code",
   "execution_count": 85,
   "id": "theoretical-rogers",
   "metadata": {},
   "outputs": [],
   "source": [
    "count10=0\n",
    "count11=0\n",
    "count00=0\n",
    "count01=0\n",
    "count20=0\n",
    "count21=0\n",
    "prob2=0\n",
    "prob0=0\n",
    "prob1=0\n",
    "slope=df.slope\n",
    "thalach=df.thalachC"
   ]
  },
  {
   "cell_type": "code",
   "execution_count": 86,
   "id": "persistent-database",
   "metadata": {},
   "outputs": [],
   "source": [
    "for i in range(297):\n",
    "    if slope[i]==0 and thalach[i]==0:\n",
    "        count00+=1\n",
    "    if slope[i]==0 and thalach[i]==1:\n",
    "        count01+=1        \n",
    "    if slope[i]==0:\n",
    "        prob0+=1"
   ]
  },
  {
   "cell_type": "code",
   "execution_count": 87,
   "id": "bronze-yugoslavia",
   "metadata": {},
   "outputs": [],
   "source": [
    "for i in range(297):\n",
    "    if slope[i]==1 and thalach[i]==0:\n",
    "        count10+=1\n",
    "    if slope[i]==1 and thalach[i]==1:\n",
    "        count11+=1        \n",
    "    if slope[i]==1:\n",
    "        prob1+=1"
   ]
  },
  {
   "cell_type": "code",
   "execution_count": 88,
   "id": "closing-school",
   "metadata": {},
   "outputs": [],
   "source": [
    "for i in range(297):\n",
    "    if slope[i]==2 and thalach[i]==0:\n",
    "        count20+=1\n",
    "    if slope[i]==2 and thalach[i]==1:\n",
    "        count21+=1        \n",
    "    if slope[i]==2:\n",
    "        prob2+=1"
   ]
  },
  {
   "cell_type": "code",
   "execution_count": 89,
   "id": "stunning-tattoo",
   "metadata": {},
   "outputs": [],
   "source": [
    "arr1=[count00/prob0, count01/prob0]\n",
    "arr2=[count10/prob1, count11/prob1]\n",
    "arr2=[count20/prob2, count21/prob2]"
   ]
  },
  {
   "cell_type": "code",
   "execution_count": 90,
   "id": "according-gravity",
   "metadata": {},
   "outputs": [
    {
     "data": {
      "image/png": "[encoded data removed]",
      "text/plain": [
       "<Figure size 432x288 with 1 Axes>"
      ]
     },
     "metadata": {},
     "output_type": "display_data"
    }
   ],
   "source": [
    "fig, ax = plt.subplots()\n",
    "ax.pie(arr1, labels=['slope=0,thalach=0','slope=0,thalach=1'], autopct='%1.1f%%',\n",
    "      colors=['lavenderblush', 'lavender'])\n",
    "plt.show()"
   ]
  },
  {
   "cell_type": "code",
   "execution_count": 91,
   "id": "adjustable-poison",
   "metadata": {},
   "outputs": [
    {
     "data": {
      "image/png": "[encoded data removed]",
      "text/plain": [
       "<Figure size 432x288 with 1 Axes>"
      ]
     },
     "metadata": {},
     "output_type": "display_data"
    }
   ],
   "source": [
    "fig, ax = plt.subplots()\n",
    "ax.pie(arr2, labels=['slope=1,thalach=0','slope=1,thalach=1'], autopct='%1.1f%%',\n",
    "      colors=['lavenderblush', 'lavender'])\n",
    "plt.show()"
   ]
  },
  {
   "cell_type": "code",
   "execution_count": 92,
   "id": "forbidden-westminster",
   "metadata": {},
   "outputs": [
    {
     "data": {
      "image/png": "[encoded data removed]",
      "text/plain": [
       "<Figure size 432x288 with 1 Axes>"
      ]
     },
     "metadata": {},
     "output_type": "display_data"
    }
   ],
   "source": [
    "fig, ax = plt.subplots()\n",
    "ax.pie(arr3, labels=['slope=2,thalach=0','slope=2,thalach=1'], autopct='%1.1f%%',\n",
    "      colors=['lavenderblush', 'lavender'])\n",
    "plt.show()"
   ]
  },
  {
   "cell_type": "code",
   "execution_count": null,
   "id": "fitted-emergency",
   "metadata": {},
   "outputs": [],
   "source": []
  },
  {
   "cell_type": "code",
   "execution_count": null,
   "id": "bizarre-yacht",
   "metadata": {},
   "outputs": [],
   "source": []
  },
  {
   "cell_type": "code",
   "execution_count": 7,
   "id": "homeless-source",
   "metadata": {
    "scrolled": false
   },
   "outputs": [
    {
     "data": {
      "text/plain": [
       "<seaborn.axisgrid.FacetGrid at 0x292110287c0>"
      ]
     },
     "execution_count": 7,
     "metadata": {},
     "output_type": "execute_result"
    },
    {
     "data": {
      "image/png": "[encoded data removed]",
      "text/plain": [
       "<Figure size 414.25x360 with 1 Axes>"
      ]
     },
     "metadata": {
      "needs_background": "light"
     },
     "output_type": "display_data"
    }
   ],
   "source": [
    "sns.displot(x='cp', data = df, kind = 'kde', hue = 'condition', fill = True)"
   ]
  },
  {
   "cell_type": "code",
   "execution_count": null,
   "id": "regular-solomon",
   "metadata": {},
   "outputs": [],
   "source": []
  },
  {
   "cell_type": "code",
   "execution_count": null,
   "id": "aquatic-demographic",
   "metadata": {},
   "outputs": [],
   "source": []
  },
  {
   "cell_type": "code",
   "execution_count": 24,
   "id": "beautiful-guess",
   "metadata": {
    "scrolled": true
   },
   "outputs": [
    {
     "name": "stderr",
     "output_type": "stream",
     "text": [
      "C:\\Code\\New folder\\lib\\site-packages\\pgmpy\\models\\BayesianModel.py:8: FutureWarning: BayesianModel has been renamed to BayesianNetwork. Please use BayesianNetwork class, BayesianModel will be removed in future.\n",
      "  warnings.warn(\n"
     ]
    }
   ],
   "source": [
    "heart_model = BayesianModel([('condition', 'cp'),('slope', 'oldpeakC'), ('condition', 'oldpeakC'),\n",
    "                            ('slope', 'thalachC'), ('ageC', 'trestbpsC'), ('condition', 'slope'), ('sex', 'condition'),\n",
    "                            ('thal', 'condition'), ('ageC', 'fbs'),('fbs', 'condition'), ('trestbpsC', 'condition')])"
   ]
  },
  {
   "cell_type": "code",
   "execution_count": 25,
   "id": "specific-cincinnati",
   "metadata": {},
   "outputs": [],
   "source": [
    "df1=df.drop(['restecg',  'age220'], axis=1)"
   ]
  },
  {
   "cell_type": "code",
   "execution_count": 26,
   "id": "forward-senegal",
   "metadata": {},
   "outputs": [
    {
     "data": {
      "text/html": [
       "<div>\n",
       "<style scoped>\n",
       "    .dataframe tbody tr th:only-of-type {\n",
       "        vertical-align: middle;\n",
       "    }\n",
       "\n",
       "    .dataframe tbody tr th {\n",
       "        vertical-align: top;\n",
       "    }\n",
       "\n",
       "    .dataframe thead th {\n",
       "        text-align: right;\n",
       "    }\n",
       "</style>\n",
       "<table border=\"1\" class=\"dataframe\">\n",
       "  <thead>\n",
       "    <tr style=\"text-align: right;\">\n",
       "      <th></th>\n",
       "      <th>sex</th>\n",
       "      <th>cp</th>\n",
       "      <th>fbs</th>\n",
       "      <th>slope</th>\n",
       "      <th>thal</th>\n",
       "      <th>ageC</th>\n",
       "      <th>trestbpsC</th>\n",
       "      <th>thalachC</th>\n",
       "      <th>oldpeakC</th>\n",
       "    </tr>\n",
       "  </thead>\n",
       "  <tbody>\n",
       "    <tr>\n",
       "      <th>0</th>\n",
       "      <td>1</td>\n",
       "      <td>0</td>\n",
       "      <td>1</td>\n",
       "      <td>1</td>\n",
       "      <td>0</td>\n",
       "      <td>2</td>\n",
       "      <td>2</td>\n",
       "      <td>False</td>\n",
       "      <td>0</td>\n",
       "    </tr>\n",
       "    <tr>\n",
       "      <th>1</th>\n",
       "      <td>0</td>\n",
       "      <td>0</td>\n",
       "      <td>0</td>\n",
       "      <td>0</td>\n",
       "      <td>0</td>\n",
       "      <td>2</td>\n",
       "      <td>1</td>\n",
       "      <td>False</td>\n",
       "      <td>0</td>\n",
       "    </tr>\n",
       "    <tr>\n",
       "      <th>2</th>\n",
       "      <td>0</td>\n",
       "      <td>0</td>\n",
       "      <td>0</td>\n",
       "      <td>2</td>\n",
       "      <td>0</td>\n",
       "      <td>2</td>\n",
       "      <td>2</td>\n",
       "      <td>False</td>\n",
       "      <td>1</td>\n",
       "    </tr>\n",
       "    <tr>\n",
       "      <th>3</th>\n",
       "      <td>1</td>\n",
       "      <td>0</td>\n",
       "      <td>1</td>\n",
       "      <td>1</td>\n",
       "      <td>0</td>\n",
       "      <td>2</td>\n",
       "      <td>1</td>\n",
       "      <td>True</td>\n",
       "      <td>0</td>\n",
       "    </tr>\n",
       "    <tr>\n",
       "      <th>4</th>\n",
       "      <td>1</td>\n",
       "      <td>0</td>\n",
       "      <td>0</td>\n",
       "      <td>1</td>\n",
       "      <td>0</td>\n",
       "      <td>1</td>\n",
       "      <td>0</td>\n",
       "      <td>False</td>\n",
       "      <td>0</td>\n",
       "    </tr>\n",
       "  </tbody>\n",
       "</table>\n",
       "</div>"
      ],
      "text/plain": [
       "   sex  cp  fbs  slope  thal ageC trestbpsC  thalachC oldpeakC\n",
       "0    1   0    1      1     0    2         2     False        0\n",
       "1    0   0    0      0     0    2         1     False        0\n",
       "2    0   0    0      2     0    2         2     False        1\n",
       "3    1   0    1      1     0    2         1      True        0\n",
       "4    1   0    0      1     0    1         0     False        0"
      ]
     },
     "execution_count": 26,
     "metadata": {},
     "output_type": "execute_result"
    }
   ],
   "source": [
    "x=df1.drop(['condition', 'exang', 'ca', 'cholC'], axis = 1)\n",
    "x.head()"
   ]
  },
  {
   "cell_type": "code",
   "execution_count": 27,
   "id": "frozen-ending",
   "metadata": {},
   "outputs": [
    {
     "data": {
      "text/plain": [
       "0    0\n",
       "1    0\n",
       "2    0\n",
       "3    1\n",
       "4    0\n",
       "Name: condition, dtype: int64"
      ]
     },
     "execution_count": 27,
     "metadata": {},
     "output_type": "execute_result"
    }
   ],
   "source": [
    "y=df1['condition']\n",
    "y.head()"
   ]
  },
  {
   "cell_type": "code",
   "execution_count": 28,
   "id": "ahead-pursuit",
   "metadata": {},
   "outputs": [],
   "source": [
    "x_train, x_test, y_train, y_test = train_test_split(x, y, test_size=0.2, random_state=0)"
   ]
  },
  {
   "cell_type": "code",
   "execution_count": 29,
   "id": "annual-bobby",
   "metadata": {},
   "outputs": [
    {
     "data": {
      "text/html": [
       "<div>\n",
       "<style scoped>\n",
       "    .dataframe tbody tr th:only-of-type {\n",
       "        vertical-align: middle;\n",
       "    }\n",
       "\n",
       "    .dataframe tbody tr th {\n",
       "        vertical-align: top;\n",
       "    }\n",
       "\n",
       "    .dataframe thead th {\n",
       "        text-align: right;\n",
       "    }\n",
       "</style>\n",
       "<table border=\"1\" class=\"dataframe\">\n",
       "  <thead>\n",
       "    <tr style=\"text-align: right;\">\n",
       "      <th></th>\n",
       "      <th>sex</th>\n",
       "      <th>cp</th>\n",
       "      <th>fbs</th>\n",
       "      <th>slope</th>\n",
       "      <th>thal</th>\n",
       "      <th>ageC</th>\n",
       "      <th>trestbpsC</th>\n",
       "      <th>thalachC</th>\n",
       "      <th>oldpeakC</th>\n",
       "      <th>condition</th>\n",
       "    </tr>\n",
       "  </thead>\n",
       "  <tbody>\n",
       "    <tr>\n",
       "      <th>282</th>\n",
       "      <td>1</td>\n",
       "      <td>3</td>\n",
       "      <td>0</td>\n",
       "      <td>1</td>\n",
       "      <td>2</td>\n",
       "      <td>0</td>\n",
       "      <td>0</td>\n",
       "      <td>False</td>\n",
       "      <td>1</td>\n",
       "      <td>1</td>\n",
       "    </tr>\n",
       "    <tr>\n",
       "      <th>81</th>\n",
       "      <td>0</td>\n",
       "      <td>2</td>\n",
       "      <td>0</td>\n",
       "      <td>0</td>\n",
       "      <td>0</td>\n",
       "      <td>2</td>\n",
       "      <td>2</td>\n",
       "      <td>True</td>\n",
       "      <td>0</td>\n",
       "      <td>0</td>\n",
       "    </tr>\n",
       "    <tr>\n",
       "      <th>108</th>\n",
       "      <td>1</td>\n",
       "      <td>2</td>\n",
       "      <td>0</td>\n",
       "      <td>1</td>\n",
       "      <td>2</td>\n",
       "      <td>1</td>\n",
       "      <td>0</td>\n",
       "      <td>False</td>\n",
       "      <td>0</td>\n",
       "      <td>0</td>\n",
       "    </tr>\n",
       "    <tr>\n",
       "      <th>146</th>\n",
       "      <td>1</td>\n",
       "      <td>2</td>\n",
       "      <td>0</td>\n",
       "      <td>0</td>\n",
       "      <td>0</td>\n",
       "      <td>0</td>\n",
       "      <td>1</td>\n",
       "      <td>False</td>\n",
       "      <td>0</td>\n",
       "      <td>0</td>\n",
       "    </tr>\n",
       "    <tr>\n",
       "      <th>217</th>\n",
       "      <td>1</td>\n",
       "      <td>3</td>\n",
       "      <td>0</td>\n",
       "      <td>1</td>\n",
       "      <td>2</td>\n",
       "      <td>1</td>\n",
       "      <td>2</td>\n",
       "      <td>False</td>\n",
       "      <td>0</td>\n",
       "      <td>1</td>\n",
       "    </tr>\n",
       "  </tbody>\n",
       "</table>\n",
       "</div>"
      ],
      "text/plain": [
       "     sex  cp  fbs  slope  thal ageC trestbpsC  thalachC oldpeakC  condition\n",
       "282    1   3    0      1     2    0         0     False        1          1\n",
       "81     0   2    0      0     0    2         2      True        0          0\n",
       "108    1   2    0      1     2    1         0     False        0          0\n",
       "146    1   2    0      0     0    0         1     False        0          0\n",
       "217    1   3    0      1     2    1         2     False        0          1"
      ]
     },
     "execution_count": 29,
     "metadata": {},
     "output_type": "execute_result"
    }
   ],
   "source": [
    "data_train=pd.concat([x_train, y_train], axis=1)\n",
    "data_train.head()"
   ]
  },
  {
   "cell_type": "code",
   "execution_count": 30,
   "id": "abandoned-cliff",
   "metadata": {},
   "outputs": [],
   "source": [
    "heart_model.fit(data_train, estimator=MaximumLikelihoodEstimator)"
   ]
  },
  {
   "cell_type": "code",
   "execution_count": 31,
   "id": "electric-research",
   "metadata": {},
   "outputs": [
    {
     "data": {
      "application/vnd.jupyter.widget-view+json": {
       "model_id": "c7c001433890465e8f988040a0064899",
       "version_major": 2,
       "version_minor": 0
      },
      "text/plain": [
       "HBox(children=(HTML(value=''), FloatProgress(value=0.0, max=54.0), HTML(value='')))"
      ]
     },
     "metadata": {},
     "output_type": "display_data"
    },
    {
     "name": "stdout",
     "output_type": "stream",
     "text": [
      "\n"
     ]
    }
   ],
   "source": [
    "target_predict_values=heart_model.predict(x_test)"
   ]
  },
  {
   "cell_type": "code",
   "execution_count": 32,
   "id": "broke-least",
   "metadata": {},
   "outputs": [],
   "source": [
    "target_predict_values_array = target_predict_values.condition.values"
   ]
  },
  {
   "cell_type": "code",
   "execution_count": 33,
   "id": "simplified-interim",
   "metadata": {},
   "outputs": [
    {
     "data": {
      "text/plain": [
       "array([0, 0, 0, 1, 0, 1, 1, 1, 1, 1, 0, 1, 1, 1, 0, 1, 0, 1, 1, 1, 0, 1,\n",
       "       1, 1, 0, 0, 1, 1, 1, 0, 0, 0, 0, 1, 1, 1, 1, 1, 0, 0, 1, 1, 1, 0,\n",
       "       1, 0, 1, 0, 1, 0, 0, 0, 0, 0, 0, 1, 1, 1, 0, 1], dtype=int64)"
      ]
     },
     "execution_count": 33,
     "metadata": {},
     "output_type": "execute_result"
    }
   ],
   "source": [
    "target_predict_values_array"
   ]
  },
  {
   "cell_type": "code",
   "execution_count": 34,
   "id": "specific-hardware",
   "metadata": {},
   "outputs": [
    {
     "data": {
      "text/plain": [
       "array([0, 0, 1, 1, 0, 1, 1, 1, 1, 1, 0, 0, 1, 1, 0, 1, 0, 1, 1, 1, 0, 1,\n",
       "       1, 1, 0, 1, 1, 1, 1, 0, 0, 0, 0, 1, 1, 1, 0, 1, 0, 1, 1, 1, 1, 0,\n",
       "       1, 1, 1, 1, 1, 0, 0, 1, 0, 1, 0, 1, 0, 1, 0, 1], dtype=int64)"
      ]
     },
     "execution_count": 34,
     "metadata": {},
     "output_type": "execute_result"
    }
   ],
   "source": [
    "y_test_array=y_test.values\n",
    "y_test_array"
   ]
  },
  {
   "cell_type": "code",
   "execution_count": 35,
   "id": "nervous-annex",
   "metadata": {},
   "outputs": [],
   "source": [
    "from sklearn.metrics import precision_score, recall_score, f1_score, confusion_matrix"
   ]
  },
  {
   "cell_type": "code",
   "execution_count": 36,
   "id": "arabic-fever",
   "metadata": {},
   "outputs": [
    {
     "data": {
      "text/plain": [
       "array([[19,  3],\n",
       "       [ 7, 31]], dtype=int64)"
      ]
     },
     "execution_count": 36,
     "metadata": {},
     "output_type": "execute_result"
    }
   ],
   "source": [
    "confusion_matrix(y_test_array, target_predict_values_array)"
   ]
  },
  {
   "cell_type": "code",
   "execution_count": 37,
   "id": "altered-outside",
   "metadata": {},
   "outputs": [],
   "source": [
    "from sklearn import metrics"
   ]
  },
  {
   "cell_type": "code",
   "execution_count": 38,
   "id": "spanish-junior",
   "metadata": {},
   "outputs": [],
   "source": [
    "from sklearn.metrics import classification_report"
   ]
  },
  {
   "cell_type": "code",
   "execution_count": 39,
   "id": "based-concept",
   "metadata": {},
   "outputs": [
    {
     "data": {
      "text/plain": [
       "0.8333333333333334"
      ]
     },
     "execution_count": 39,
     "metadata": {},
     "output_type": "execute_result"
    }
   ],
   "source": [
    "metrics.accuracy_score(y_test_array, target_predict_values_array)"
   ]
  },
  {
   "cell_type": "code",
   "execution_count": 40,
   "id": "reported-settlement",
   "metadata": {},
   "outputs": [
    {
     "name": "stdout",
     "output_type": "stream",
     "text": [
      "              precision    recall  f1-score   support\n",
      "\n",
      "           0       0.73      0.86      0.79        22\n",
      "           1       0.91      0.82      0.86        38\n",
      "\n",
      "    accuracy                           0.83        60\n",
      "   macro avg       0.82      0.84      0.83        60\n",
      "weighted avg       0.85      0.83      0.84        60\n",
      "\n"
     ]
    }
   ],
   "source": [
    "print(classification_report(y_test_array, target_predict_values_array))"
   ]
  },
  {
   "cell_type": "code",
   "execution_count": 41,
   "id": "amended-throat",
   "metadata": {},
   "outputs": [
    {
     "data": {
      "text/plain": [
       "<seaborn.axisgrid.FacetGrid at 0x2a00b301af0>"
      ]
     },
     "execution_count": 41,
     "metadata": {},
     "output_type": "execute_result"
    },
    {
     "data": {
      "image/png": "[encoded data removed]",
      "text/plain": [
       "<Figure size 414.25x360 with 1 Axes>"
      ]
     },
     "metadata": {
      "needs_background": "light"
     },
     "output_type": "display_data"
    }
   ],
   "source": [
    "sns.displot(x='cp', data = df, kind = 'kde', hue = 'condition', fill = True)"
   ]
  },
  {
   "cell_type": "code",
   "execution_count": null,
   "id": "basic-lindsay",
   "metadata": {},
   "outputs": [],
   "source": []
  }
 ],
 "metadata": {
  "kernelspec": {
   "display_name": "Python 3",
   "language": "python",
   "name": "python3"
  },
  "language_info": {
   "codemirror_mode": {
    "name": "ipython",
    "version": 3
   },
   "file_extension": ".py",
   "mimetype": "text/x-python",
   "name": "python",
   "nbconvert_exporter": "python",
   "pygments_lexer": "ipython3",
   "version": "3.8.5"
  }
 },
 "nbformat": 4,
 "nbformat_minor": 5
}
